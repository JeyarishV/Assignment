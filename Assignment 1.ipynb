{
 "cells": [
  {
   "cell_type": "code",
   "execution_count": 15,
   "id": "47b1750b",
   "metadata": {},
   "outputs": [
    {
     "name": "stdout",
     "output_type": "stream",
     "text": [
      "4\n",
      "<class 'int'>\n"
     ]
    }
   ],
   "source": [
    "a = 4 \n",
    "print(a)\n",
    "print(type(a))"
   ]
  },
  {
   "cell_type": "code",
   "execution_count": 16,
   "id": "697ecea2",
   "metadata": {},
   "outputs": [
    {
     "name": "stdout",
     "output_type": "stream",
     "text": [
      "2.34\n",
      "<class 'float'>\n"
     ]
    }
   ],
   "source": [
    "b = 2.34\n",
    "print (b)\n",
    "print (type (b))"
   ]
  },
  {
   "cell_type": "code",
   "execution_count": 17,
   "id": "a04a096a",
   "metadata": {},
   "outputs": [
    {
     "name": "stdout",
     "output_type": "stream",
     "text": [
      "Jeyarish\n",
      "<class 'str'>\n"
     ]
    }
   ],
   "source": [
    "c = \"Jeyarish\"\n",
    "print (c)\n",
    "print( type (c))"
   ]
  },
  {
   "cell_type": "code",
   "execution_count": 19,
   "id": "b89f8b6b",
   "metadata": {},
   "outputs": [
    {
     "name": "stdout",
     "output_type": "stream",
     "text": [
      "True\n",
      "<class 'bool'>\n"
     ]
    }
   ],
   "source": [
    "d = True\n",
    "print(d)\n",
    "print(type (d))"
   ]
  },
  {
   "cell_type": "code",
   "execution_count": 49,
   "id": "adbab073",
   "metadata": {},
   "outputs": [
    {
     "name": "stdout",
     "output_type": "stream",
     "text": [
      "(1+5j)\n"
     ]
    }
   ],
   "source": [
    "e = 1 + 5j\n",
    "print(e)"
   ]
  },
  {
   "cell_type": "code",
   "execution_count": 55,
   "id": "3e86a98e",
   "metadata": {},
   "outputs": [
    {
     "data": {
      "text/plain": [
       "1.0"
      ]
     },
     "execution_count": 55,
     "metadata": {},
     "output_type": "execute_result"
    }
   ],
   "source": [
    "e.real"
   ]
  },
  {
   "cell_type": "code",
   "execution_count": 23,
   "id": "3ad06d89",
   "metadata": {},
   "outputs": [
    {
     "data": {
      "text/plain": [
       "7.2"
      ]
     },
     "execution_count": 23,
     "metadata": {},
     "output_type": "execute_result"
    }
   ],
   "source": [
    "1.2 + 6.00"
   ]
  },
  {
   "cell_type": "code",
   "execution_count": 40,
   "id": "845bbf9a",
   "metadata": {},
   "outputs": [
    {
     "data": {
      "text/plain": [
       "'hello world'"
      ]
     },
     "execution_count": 40,
     "metadata": {},
     "output_type": "execute_result"
    }
   ],
   "source": [
    "e = \"hello world\"\n",
    "e"
   ]
  },
  {
   "cell_type": "code",
   "execution_count": 43,
   "id": "30b231ea",
   "metadata": {},
   "outputs": [
    {
     "data": {
      "text/plain": [
       "'hello world'"
      ]
     },
     "execution_count": 43,
     "metadata": {},
     "output_type": "execute_result"
    }
   ],
   "source": [
    "e.center(5)\n",
    "e"
   ]
  },
  {
   "cell_type": "code",
   "execution_count": 1,
   "id": "ee4e975f",
   "metadata": {},
   "outputs": [],
   "source": [
    "e = '4'"
   ]
  },
  {
   "cell_type": "code",
   "execution_count": 2,
   "id": "a229977b",
   "metadata": {},
   "outputs": [
    {
     "data": {
      "text/plain": [
       "2"
      ]
     },
     "execution_count": 2,
     "metadata": {},
     "output_type": "execute_result"
    }
   ],
   "source": [
    "int('2')"
   ]
  },
  {
   "cell_type": "code",
   "execution_count": 3,
   "id": "4aa845a1",
   "metadata": {},
   "outputs": [
    {
     "data": {
      "text/plain": [
       "65.0"
      ]
     },
     "execution_count": 3,
     "metadata": {},
     "output_type": "execute_result"
    }
   ],
   "source": [
    "float(65)"
   ]
  },
  {
   "cell_type": "code",
   "execution_count": 17,
   "id": "b4c3295d",
   "metadata": {},
   "outputs": [
    {
     "name": "stdout",
     "output_type": "stream",
     "text": [
      "Hello\n"
     ]
    }
   ],
   "source": [
    "a = 2\n",
    "\n",
    "if a <10:\n",
    "    {\n",
    "        print(\"Hello\")\n",
    "    }\n",
    "elif a < 6:\n",
    "    print(\"Hola\")\n",
    "else:\n",
    "    print(\"What is this?\")"
   ]
  },
  {
   "cell_type": "code",
   "execution_count": 19,
   "id": "a9064d48",
   "metadata": {},
   "outputs": [
    {
     "name": "stdout",
     "output_type": "stream",
     "text": [
      "a is 5\n"
     ]
    }
   ],
   "source": [
    "a = 5\n",
    "if a > 5:\n",
    "    print(\"a is greater than 5\")\n",
    "elif (a == 5):\n",
    "    print(\"a is 5\")\n",
    "else:\n",
    "    print(\"a is less than 5\")"
   ]
  },
  {
   "cell_type": "code",
   "execution_count": 25,
   "id": "8de563ae",
   "metadata": {},
   "outputs": [
    {
     "name": "stdout",
     "output_type": "stream",
     "text": [
      "wrong number or the number is geater than 15\n"
     ]
    }
   ],
   "source": [
    "a = 100\n",
    "if (a < 15 & a >7):\n",
    "    print(\"a is lesser than 15\")\n",
    "    if (a == 15):\n",
    "        print(\"a is 15\")\n",
    "    if ( a == 14):\n",
    "        print(\"a is 14\")\n",
    "    if (a == 13):\n",
    "        print(\"a is 13\")\n",
    "    if (a == 12):\n",
    "        print(\"a is 12\")\n",
    "    if ( a == 11):\n",
    "        print(\"a is 11\")\n",
    "    if (a == 10):\n",
    "        print(\"a is 10\")\n",
    "    if (a == 9):\n",
    "        print(\"a is 9\")\n",
    "    if ( a == 8):\n",
    "        print(\"a is 8\")\n",
    "    if (a == 7):\n",
    "        print(\"a is 7\")\n",
    "elif (a <= 7):\n",
    "    if (a == 7):\n",
    "        print(\"a is 7\")\n",
    "    if (a == 6):\n",
    "        print(\"a is 6\")\n",
    "    if ( a == 5):\n",
    "        print(\"a is 5\")\n",
    "    if (a == 4):\n",
    "        print(\"a is 4\")\n",
    "    if (a == 3):\n",
    "        print(\"a is 3\")\n",
    "    if ( a == 2):\n",
    "        print(\"a is 2\")\n",
    "    if (a == 1):\n",
    "        print(\"a is 1\")\n",
    "else:\n",
    "    print(\"wrong number or the number is geater than 15\")\n",
    "    "
   ]
  },
  {
   "cell_type": "code",
   "execution_count": null,
   "id": "ca87435b",
   "metadata": {},
   "outputs": [],
   "source": []
  }
 ],
 "metadata": {
  "celltoolbar": "Slideshow",
  "kernelspec": {
   "display_name": "Python 3 (ipykernel)",
   "language": "python",
   "name": "python3"
  },
  "language_info": {
   "codemirror_mode": {
    "name": "ipython",
    "version": 3
   },
   "file_extension": ".py",
   "mimetype": "text/x-python",
   "name": "python",
   "nbconvert_exporter": "python",
   "pygments_lexer": "ipython3",
   "version": "3.9.13"
  }
 },
 "nbformat": 4,
 "nbformat_minor": 5
}
